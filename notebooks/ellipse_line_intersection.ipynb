{
 "cells": [
  {
   "cell_type": "code",
   "execution_count": 1,
   "metadata": {},
   "outputs": [
    {
     "ename": "NameError",
     "evalue": "name 'var' is not defined",
     "output_type": "error",
     "traceback": [
      "\u001b[1;31m---------------------------------------------------------------------------\u001b[0m",
      "\u001b[1;31mNameError\u001b[0m                                 Traceback (most recent call last)",
      "\u001b[1;32mC:\\Users\\SAMYU~1\\AppData\\Local\\Temp/ipykernel_31040/124613742.py\u001b[0m in \u001b[0;36m<module>\u001b[1;34m\u001b[0m\n\u001b[1;32m----> 1\u001b[1;33m \u001b[0mvar\u001b[0m\u001b[1;33m(\u001b[0m\u001b[1;34m'x,y'\u001b[0m\u001b[1;33m)\u001b[0m \u001b[1;31m# x,y coords\u001b[0m\u001b[1;33m\u001b[0m\u001b[1;33m\u001b[0m\u001b[0m\n\u001b[0m\u001b[0;32m      2\u001b[0m \u001b[0mvar\u001b[0m\u001b[1;33m(\u001b[0m\u001b[1;34m'x_c,y_c'\u001b[0m\u001b[1;33m)\u001b[0m \u001b[1;31m# x,y shifts\u001b[0m\u001b[1;33m\u001b[0m\u001b[1;33m\u001b[0m\u001b[0m\n\u001b[0;32m      3\u001b[0m \u001b[0mvar\u001b[0m\u001b[1;33m(\u001b[0m\u001b[1;34m'alpha'\u001b[0m\u001b[1;33m)\u001b[0m \u001b[1;31m# rotation angle\u001b[0m\u001b[1;33m\u001b[0m\u001b[1;33m\u001b[0m\u001b[0m\n\u001b[0;32m      4\u001b[0m \u001b[0mvar\u001b[0m\u001b[1;33m(\u001b[0m\u001b[1;34m'a,b'\u001b[0m\u001b[1;33m)\u001b[0m \u001b[1;31m# major, minor axes\u001b[0m\u001b[1;33m\u001b[0m\u001b[1;33m\u001b[0m\u001b[0m\n\u001b[0;32m      5\u001b[0m \u001b[0mvar\u001b[0m\u001b[1;33m(\u001b[0m\u001b[1;34m'L'\u001b[0m\u001b[1;33m)\u001b[0m \u001b[1;31m# side-length of box\u001b[0m\u001b[1;33m\u001b[0m\u001b[1;33m\u001b[0m\u001b[0m\n",
      "\u001b[1;31mNameError\u001b[0m: name 'var' is not defined"
     ]
    }
   ],
   "source": [
    "var('x,y') # x,y coords\n",
    "var('x_c,y_c') # x,y shifts\n",
    "var('alpha') # rotation angle\n",
    "var('a,b') # major, minor axes\n",
    "var('L') # side-length of box\n",
    "var('k,d') # slope, y intercept of line \n",
    "\n",
    "# ellipse equation \n",
    "ellipse = (x*cos(alpha) - y*sin(alpha) - x_c)^2/a^2 + (y*cos(alpha) + x*sin(alpha) - y_c)^2/b^2 - 1 # = 0"
   ]
  },
  {
   "cell_type": "code",
   "execution_count": null,
   "metadata": {},
   "outputs": [],
   "source": [
    "expanded = ellipse.expand()"
   ]
  },
  {
   "cell_type": "code",
   "execution_count": null,
   "metadata": {},
   "outputs": [],
   "source": [
    "# convert box ellipse-wall intersection to quadratic equation\n",
    "expanded_x_0 = expanded.subs(x=0)\n",
    "expanded_y_0 = expanded.subs(y=0)\n",
    "expanded_x_L = expanded.subs(x=L)\n",
    "expanded_y_L = expanded.subs(y=L)\n",
    "# intersection with a general line\n",
    "expanded_line_eq = expanded.subs(y=k*x+d)\n",
    "\n",
    "# collect like terms\n",
    "collected_x_0 = expanded_x_0.collect(y^2).collect(y)\n",
    "collected_x_L = expanded_x_L.collect(y^2).collect(y)\n",
    "collected_y_0 = expanded_y_0.collect(x^2).collect(x)\n",
    "collected_y_L = expanded_y_L.collect(x^2).collect(x)\n",
    "collected_line_eq = expanded_line_eq.collect(x^2).collect(x)\n",
    "\n",
    "print(collected_line_eq)"
   ]
  },
  {
   "cell_type": "code",
   "execution_count": null,
   "metadata": {},
   "outputs": [],
   "source": [
    "# compute discriminant of quadratic equation\n",
    "def compute_discriminant(p, var):\n",
    "    a = p.coefficient(var^2)\n",
    "    b = p.coefficient(var)\n",
    "    c = p - a*var^2 - b*var\n",
    "    \n",
    "    disc = b^2 - 4*a*c\n",
    "    \n",
    "    return disc\n",
    "\n",
    "# discriminants for box boundaries\n",
    "disc_x_0 = compute_discriminant(collected_x_0, y)\n",
    "disc_x_L = compute_discriminant(collected_x_L, y)\n",
    "disc_y_0 = compute_discriminant(collected_y_0, x)\n",
    "disc_y_L = compute_discriminant(collected_y_L, x)\n",
    "# discriminant for arbitrary line-ellipse intersection\n",
    "disc_y_general = compute_discriminant(collected_line_eq, x)\n",
    "\n",
    "print(disc_y_general)"
   ]
  }
 ],
 "metadata": {
  "kernelspec": {
   "display_name": "Python 3 (ipykernel)",
   "language": "python",
   "name": "python3"
  },
  "language_info": {
   "codemirror_mode": {
    "name": "ipython",
    "version": 3
   },
   "file_extension": ".py",
   "mimetype": "text/x-python",
   "name": "python",
   "nbconvert_exporter": "python",
   "pygments_lexer": "ipython3",
   "version": "3.9.4"
  }
 },
 "nbformat": 4,
 "nbformat_minor": 4
}
