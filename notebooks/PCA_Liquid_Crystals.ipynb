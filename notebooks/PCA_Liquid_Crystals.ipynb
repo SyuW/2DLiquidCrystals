{
 "cells": [
  {
   "cell_type": "code",
   "execution_count": 34,
   "metadata": {},
   "outputs": [],
   "source": [
    "%matplotlib inline\n",
    "\n",
    "import matplotlib.pyplot as plt\n",
    "import numpy as np\n",
    "\n",
    "from numpy.linalg import norm\n",
    "from scipy.interpolate import UnivariateSpline\n",
    "from sklearn.decomposition import PCA\n",
    "from datetime import date\n",
    "\n",
    "import asyncio\n",
    "import math\n",
    "import os\n",
    "import sys\n",
    "import time\n",
    "sys.path.append(\"C:\\\\Users\\\\Sam Yu\\\\Documents\\\\GitHub\\\\LiquidCrystals\\\\src\")\n",
    "\n",
    "from LiquidCrystalSystem import LCSystem"
   ]
  },
  {
   "cell_type": "code",
   "execution_count": 3,
   "metadata": {},
   "outputs": [],
   "source": [
    "def get_config(r):\n",
    "    \n",
    "    if r == 0:\n",
    "        particle_no_index = 3\n",
    "        confinement = \"Circle\"\n",
    "    else:\n",
    "        particle_no_index = 4\n",
    "        confinement = \"Annulus\"\n",
    "    \n",
    "    config = {\"R\": 25,\n",
    "              \"r\": r,\n",
    "              \"b\": 5,\n",
    "              \"a\": 0.25,\n",
    "              \"confinement\": confinement,\n",
    "              \"datasets_path\": f\"C:\\\\Users\\\\Sam Yu\\\\Desktop\\\\School\\\\4A\\\\Phys_437A_Research_Project\\\\datasets\\\\r={r}\",\n",
    "              \"particle_no_index\": particle_no_index}\n",
    "    \n",
    "    return config"
   ]
  },
  {
   "cell_type": "code",
   "execution_count": 4,
   "metadata": {},
   "outputs": [
    {
     "name": "stdout",
     "output_type": "stream",
     "text": [
      "{'R': 25, 'r': 0, 'b': 5, 'a': 0.25, 'confinement': 'Circle', 'datasets_path': 'C:\\\\Users\\\\Sam Yu\\\\Desktop\\\\School\\\\4A\\\\Phys_437A_Research_Project\\\\datasets\\\\r=0', 'particle_no_index': 3}\n",
      "\n",
      "Particle numbers: [20, 25, 30, 35, 40, 45, 50, 55, 60, 65, 70, 75, 80, 85, 90, 95, 100, 105, 110, 115, 120, 125, 130, 135, 140, 145, 150, 155, 160, 165, 170, 175, 180, 185, 190, 195, 200]\n"
     ]
    }
   ],
   "source": [
    "run_config = get_config(r=0)\n",
    "\n",
    "print(f\"{run_config}\\n\")\n",
    "\n",
    "globals().update(run_config)\n",
    "    \n",
    "# particle numbers\n",
    "Ns = sorted([int(_path_.split(\"_\")[particle_no_index]) for _path_ in os.listdir(datasets_path)])\n",
    "\n",
    "print(f\"Particle numbers: {Ns}\")"
   ]
  },
  {
   "cell_type": "code",
   "execution_count": 35,
   "metadata": {},
   "outputs": [
    {
     "name": "stdout",
     "output_type": "stream",
     "text": [
      "particle number: 20 -> density: 0.0400\n",
      "particle number: 25 -> density: 0.0500\n",
      "particle number: 30 -> density: 0.0600\n",
      "particle number: 35 -> density: 0.0700\n",
      "particle number: 40 -> density: 0.0800\n",
      "particle number: 45 -> density: 0.0900\n",
      "particle number: 50 -> density: 0.1000\n",
      "particle number: 55 -> density: 0.1100\n",
      "particle number: 60 -> density: 0.1200\n",
      "particle number: 65 -> density: 0.1300\n",
      "particle number: 70 -> density: 0.1400\n",
      "particle number: 75 -> density: 0.1500\n",
      "particle number: 80 -> density: 0.1600\n",
      "particle number: 85 -> density: 0.1700\n",
      "particle number: 90 -> density: 0.1800\n",
      "particle number: 95 -> density: 0.1900\n",
      "particle number: 100 -> density: 0.2000\n",
      "particle number: 105 -> density: 0.2100\n",
      "particle number: 110 -> density: 0.2200\n",
      "particle number: 115 -> density: 0.2300\n",
      "particle number: 120 -> density: 0.2400\n",
      "particle number: 125 -> density: 0.2500\n",
      "particle number: 130 -> density: 0.2600\n",
      "particle number: 135 -> density: 0.2700\n",
      "particle number: 140 -> density: 0.2800\n",
      "particle number: 145 -> density: 0.2900\n",
      "particle number: 150 -> density: 0.3000\n",
      "particle number: 155 -> density: 0.3100\n",
      "particle number: 160 -> density: 0.3200\n",
      "particle number: 165 -> density: 0.3300\n",
      "particle number: 170 -> density: 0.3400\n",
      "particle number: 175 -> density: 0.3500\n",
      "particle number: 180 -> density: 0.3600\n",
      "particle number: 185 -> density: 0.3700\n",
      "particle number: 190 -> density: 0.3800\n",
      "particle number: 195 -> density: 0.3900\n",
      "particle number: 200 -> density: 0.4000\n"
     ]
    },
    {
     "data": {
      "image/png": "[encoded data removed]",
      "text/plain": [
       "<Figure size 432x288 with 1 Axes>"
      ]
     },
     "metadata": {
      "needs_background": "light"
     },
     "output_type": "display_data"
    }
   ],
   "source": [
    "# Create the results directory for specified inner radius\n",
    "base_results_path = f\"C:\\\\Users\\\\Sam Yu\\\\Desktop\\\\School\\\\4A\\\\Phys_437A_Research_Project\\\\results\\\\{date.today()}\\\\\"\n",
    "results_path = os.path.join(base_results_path, f\"r={r}\")\n",
    "\n",
    "if not os.path.exists(results_path):\n",
    "    os.makedirs(results_path, exist_ok=True)\n",
    "    \n",
    "# Path for run at (number of features, number of samples)\n",
    "num_of_features = 10\n",
    "num_of_samples = 3\n",
    "\n",
    "run_path = os.path.join(results_path, f\"features_{num_of_features}_samples_{num_of_samples}\")\n",
    "\n",
    "if not os.path.exists(run_path):\n",
    "    os.mkdir(run_path)\n",
    "    \n",
    "\n",
    "#### Plot the packing fractions with respect to particle number ####\n",
    "\n",
    "# convert to densities\n",
    "densities = [(N*a*b/(R**2-r**2)) for N in Ns]\n",
    "\n",
    "for i, N in enumerate(Ns):\n",
    "    print(f\"particle number: {Ns[i]} -> density: {densities[i]:.4f}\")\n",
    "\n",
    "# Plot the packing fractions w.r.t particle number\n",
    "with plt.ioff():\n",
    "    fig, ax = plt.subplots()\n",
    "    \n",
    "ax.plot(Ns, densities)\n",
    "ax.scatter(Ns, densities)\n",
    "ax.set_xlabel(\"Particle number\")\n",
    "ax.set_ylabel(r\"Packing fraction, $\\eta$\")\n",
    "ax.set_title(\"Packing fraction vs particle number\")\n",
    "ax.grid()\n",
    "\n",
    "fig.savefig(os.path.join(results_path, \"packing_fraction_particles_no.png\"))\n",
    "\n",
    "plt.show()\n",
    "\n",
    "plt.close(fig)\n",
    "\n",
    "##### End plotting #####"
   ]
  },
  {
   "cell_type": "code",
   "execution_count": 6,
   "metadata": {},
   "outputs": [
    {
     "name": "stdout",
     "output_type": "stream",
     "text": [
      "Particle number: 20, max step: 2000000.0\n",
      "Particle number: 25, max step: 2000000.0\n",
      "Particle number: 30, max step: 2000000.0\n",
      "Particle number: 35, max step: 2000000.0\n",
      "Particle number: 40, max step: 2000000.0\n",
      "Particle number: 45, max step: 2000000.0\n",
      "Particle number: 50, max step: 2000000.0\n",
      "Particle number: 55, max step: 2000000.0\n",
      "Particle number: 60, max step: 2000000.0\n",
      "Particle number: 65, max step: 2000000.0\n",
      "Particle number: 70, max step: 2000000.0\n",
      "Particle number: 75, max step: 2000000.0\n",
      "Particle number: 80, max step: 2000000.0\n",
      "Particle number: 85, max step: 2000000.0\n",
      "Particle number: 90, max step: 2000000.0\n",
      "Particle number: 95, max step: 2000000.0\n",
      "Particle number: 100, max step: 2000000.0\n",
      "Particle number: 105, max step: 2000000.0\n",
      "Particle number: 110, max step: 2000000.0\n",
      "Particle number: 115, max step: 2000000.0\n",
      "Particle number: 120, max step: 2000000.0\n",
      "Particle number: 125, max step: 2000000.0\n",
      "Particle number: 130, max step: 2000000.0\n",
      "Particle number: 135, max step: 2000000.0\n",
      "Particle number: 140, max step: 2000000.0\n",
      "Particle number: 145, max step: 2000000.0\n",
      "Particle number: 150, max step: 2000000.0\n",
      "Particle number: 155, max step: 2000000.0\n",
      "Particle number: 160, max step: 2000000.0\n",
      "Particle number: 165, max step: 2000000.0\n",
      "Particle number: 170, max step: 2000000.0\n",
      "Particle number: 175, max step: 2000000.0\n",
      "Particle number: 180, max step: 2000000.0\n",
      "Particle number: 185, max step: 2000000.0\n",
      "Particle number: 190, max step: 1779999\n",
      "Particle number: 195, max step: 1659999\n",
      "Particle number: 200, max step: 1559999\n"
     ]
    }
   ],
   "source": [
    "systems = dict()\n",
    "\n",
    "for _path_ in os.listdir(datasets_path):\n",
    "    \n",
    "    full_path = os.path.join(datasets_path, _path_, 'instanceRun')\n",
    "    \n",
    "    # Simulation summary notes exists\n",
    "    if os.path.exists(os.path.join(full_path, f\"MonteCarlo_{confinement}_SimNotes.txt\")):\n",
    "        \n",
    "        lc = LCSystem(lc_data_path=full_path, confinement=confinement)\n",
    "        num_of_particles = lc.sim_params['# of Ellipse']\n",
    "        systems[num_of_particles] = lc\n",
    "    \n",
    "    # Simulation summary notes DNE\n",
    "    else:\n",
    "        \n",
    "        lc = LCSystem(lc_data_path=full_path, confinement=confinement)\n",
    "        lc.sim_params[\"R\"] = R\n",
    "        lc.sim_params[\"r\"] = r\n",
    "        lc.sim_params[\"Semi Major Axis\"] = b\n",
    "        lc.sim_params[\"Semi Minor Axis\"] = a\n",
    "        \n",
    "        num_of_particles = lc.sim_params[\"# of Ellipse\"]\n",
    "        \n",
    "        systems[num_of_particles] = lc\n",
    "\n",
    "# remove outliers\n",
    "#systems = {N:systems[N] for N in systems.keys() if N > 65 and N < 210}\n",
    "\n",
    "for N in sorted(list(systems.keys())):\n",
    "    print(f\"Particle number: {N}, max step: {max(systems[N].snapshots.keys())}\")"
   ]
  },
  {
   "cell_type": "markdown",
   "metadata": {},
   "source": [
    "Conventional order parameter definition: $P^2_{max} = [<\\frac{1}{N}\\sum_{i=1}^{N}\\cos(2\\theta_i)>^2 + <\\frac{1}{N}\\sum_{i=1}^{N}\\sin(2\\theta_i)>^2]^{1/2}$"
   ]
  },
  {
   "cell_type": "code",
   "execution_count": 36,
   "metadata": {},
   "outputs": [
    {
     "name": "stdout",
     "output_type": "stream",
     "text": [
      "Particle number: 20, Density: 0.04, Order param: 0.019088315137694937\n",
      "Particle number: 25, Density: 0.05, Order param: 0.03418345886641592\n",
      "Particle number: 30, Density: 0.06, Order param: 0.007530919465154371\n",
      "Particle number: 35, Density: 0.07, Order param: 0.059751352321596465\n",
      "Particle number: 40, Density: 0.08, Order param: 0.0036077096502918037\n",
      "Particle number: 45, Density: 0.09, Order param: 0.009465979349572448\n",
      "Particle number: 50, Density: 0.1, Order param: 0.03268758896530067\n",
      "Particle number: 55, Density: 0.11, Order param: 0.030205526877684574\n",
      "Particle number: 60, Density: 0.12, Order param: 0.04348943368762404\n",
      "Particle number: 65, Density: 0.13, Order param: 0.03854149837940504\n",
      "Particle number: 70, Density: 0.14, Order param: 0.04865857842782433\n",
      "Particle number: 75, Density: 0.15, Order param: 0.01714235593895036\n",
      "Particle number: 80, Density: 0.16, Order param: 0.12361916532652241\n",
      "Particle number: 85, Density: 0.17, Order param: 0.15420810137654098\n",
      "Particle number: 90, Density: 0.18, Order param: 0.18655350733391207\n",
      "Particle number: 95, Density: 0.19, Order param: 0.14623732921852448\n",
      "Particle number: 100, Density: 0.2, Order param: 0.34642727388360894\n",
      "Particle number: 105, Density: 0.21, Order param: 0.35789043767150885\n",
      "Particle number: 110, Density: 0.22, Order param: 0.22630076120409903\n",
      "Particle number: 115, Density: 0.23, Order param: 0.4781099796648542\n",
      "Particle number: 120, Density: 0.24, Order param: 0.6351644951074881\n",
      "Particle number: 125, Density: 0.25, Order param: 0.6795055015808744\n",
      "Particle number: 130, Density: 0.26, Order param: 0.5461137855165604\n",
      "Particle number: 135, Density: 0.27, Order param: 0.5917294779231167\n",
      "Particle number: 140, Density: 0.28, Order param: 0.6797693205763773\n",
      "Particle number: 145, Density: 0.29, Order param: 0.7004420371188359\n",
      "Particle number: 150, Density: 0.3, Order param: 0.8105487568282952\n",
      "Particle number: 155, Density: 0.31, Order param: 0.7551477748497748\n",
      "Particle number: 160, Density: 0.32, Order param: 0.7096859586234145\n",
      "Particle number: 165, Density: 0.33, Order param: 0.8257051409996454\n",
      "Particle number: 170, Density: 0.34, Order param: 0.8706723880084752\n",
      "Particle number: 175, Density: 0.35, Order param: 0.8713517641572527\n",
      "Particle number: 180, Density: 0.36, Order param: 0.8693070180654306\n",
      "Particle number: 185, Density: 0.37, Order param: 0.8869995413516056\n",
      "Particle number: 190, Density: 0.38, Order param: 0.8928397572827428\n",
      "Particle number: 195, Density: 0.39, Order param: 0.9060091229501726\n",
      "Particle number: 200, Density: 0.4, Order param: 0.8761396191767009\n"
     ]
    },
    {
     "data": {
      "image/png": "[encoded data removed]",
      "text/plain": [
       "<Figure size 432x288 with 1 Axes>"
      ]
     },
     "metadata": {
      "needs_background": "light"
     },
     "output_type": "display_data"
    }
   ],
   "source": [
    "# Analysis using conventional order parameter\n",
    "\n",
    "max_particle_num = max(systems.keys())\n",
    "max_step = max(systems[max_particle_num].snapshots.keys())\n",
    "min_step = min([step for step in systems[max_particle_num].snapshots.keys() if step > 0])\n",
    "\n",
    "P2max = dict()\n",
    "\n",
    "for particle_number in systems.keys():\n",
    "    \n",
    "    cosines = []\n",
    "    sines = []\n",
    "    system_state_at_mc_step = systems[particle_number].snapshots\n",
    "        \n",
    "    for mc_step in system_state_at_mc_step.keys():\n",
    "        \n",
    "        # wait for system to equilibrate\n",
    "        if 50000 <= mc_step <= 2000000:\n",
    "            \n",
    "            snapshot = system_state_at_mc_step[mc_step]\n",
    "\n",
    "            thetas = np.array([coord[-1] for coord in snapshot])\n",
    "\n",
    "            cosine = np.mean([np.cos(2*theta) for theta in thetas])\n",
    "            sine = np.mean([np.sin(2*theta) for theta in thetas])\n",
    "\n",
    "            cosines.append(cosine)\n",
    "            sines.append(sine)\n",
    "\n",
    "    avg_cosine = np.mean(cosines)\n",
    "    avg_sine = np.mean(sines)\n",
    "    \n",
    "    P2max[particle_number] = np.sqrt(avg_cosine**2 + avg_sine**2)\n",
    "    \n",
    "with plt.ioff():\n",
    "    fig, ax = plt.subplots()\n",
    "\n",
    "for key in sorted(list(P2max.keys())):\n",
    "    print(f\"Particle number: {key}, Density: {key*a*b/(R**2-r**2)}, Order param: {P2max[key]}\")\n",
    "\n",
    "densities = sorted([N*a*b/(R**2-r**2) for N in P2max.keys()])\n",
    "order_params = [P2max[N] for N in sorted(list(P2max.keys()))]\n",
    "spline = UnivariateSpline(densities, order_params)\n",
    "\n",
    "ax.plot(densities, order_params)\n",
    "ax.scatter(densities, order_params)\n",
    "ax.plot(densities, spline(densities))\n",
    "ax.grid()\n",
    "ax.set_xlabel(r\"density $\\eta$\")\n",
    "ax.set_ylabel(r\"$P^2_{max}$\")\n",
    "ax.set_title(r\"Conventional order parameter $P^2_{max}$\")\n",
    "\n",
    "fig.savefig(os.path.join(results_path, \"p2max.png\"))\n",
    "\n",
    "plt.show()\n",
    "\n",
    "plt.close()"
   ]
  },
  {
   "cell_type": "code",
   "execution_count": null,
   "metadata": {},
   "outputs": [],
   "source": [
    "system = systems[110]\n",
    "\n",
    "fig = system.plot_snapshot(1499999, color_angles=True)\n",
    "plt.show(fig)\n",
    "plt.close()\n",
    "\n",
    "cosines = []\n",
    "sines = []\n",
    "\n",
    "for step in sorted(list(system.snapshots.keys())):\n",
    "    \n",
    "    if 50000 <= step <= 2000000:\n",
    "        \n",
    "        snapshot = system.snapshots[step]\n",
    "\n",
    "        cosine = np.mean([np.cos(2*theta) for theta in thetas])\n",
    "        sine = np.mean([np.sin(2*theta) for theta in thetas])\n",
    "        \n",
    "        cosines.append(cosine)\n",
    "        sines.append(sine)\n",
    "\n",
    "        print(f\"Step: {step}, Cosine: {cosine}, Sine: {sine}\")\n",
    "\n",
    "avg_cosine = np.mean(cosines)\n",
    "avg_sine = np.mean(sines)\n",
    "\n",
    "print(f\"Average cosine over all snapshots: {avg_cosine}\")\n",
    "print(f\"Average sine over all snapshots: {avg_sine}\")\n",
    "\n",
    "order_param = np.sqrt(avg_cosine**2 + avg_sine**2)\n",
    "print(f\"Order parameter: {order_param}\")"
   ]
  },
  {
   "cell_type": "code",
   "execution_count": 10,
   "metadata": {},
   "outputs": [],
   "source": [
    "def background(f):\n",
    "    def wrapped(*args, **kwargs):\n",
    "        return asyncio.get_event_loop().run_in_executor(None, f, *args, **kwargs)\n",
    "    \n",
    "    return wrapped"
   ]
  },
  {
   "cell_type": "code",
   "execution_count": 12,
   "metadata": {},
   "outputs": [
    {
     "name": "stdout",
     "output_type": "stream",
     "text": [
      "C:\\Users\\Sam Yu\\Desktop\\School\\4A\\Phys_437A_Research_Project\\results\\2021-11-23\\r=0\\features_10_samples_3\n",
      "C:\\Users\\Sam Yu\\Desktop\\School\\4A\\Phys_437A_Research_Project\\datasets\\r=0\n"
     ]
    }
   ],
   "source": [
    "print(run_path)\n",
    "print(datasets_path)"
   ]
  },
  {
   "cell_type": "code",
   "execution_count": null,
   "metadata": {},
   "outputs": [],
   "source": [
    "# Visualize how the feature function chooses\n",
    "# also plot the snapshots\n",
    "\n",
    "if not os.path.exists(os.path.join(run_path, \"method\")):\n",
    "    os.mkdir(os.path.join(run_path, \"method\"))\n",
    "\n",
    "@background\n",
    "def demonstrate_method(N):\n",
    "\n",
    "    lc_system = systems[N]\n",
    "\n",
    "    # maximally equilibrated step\n",
    "    step_number = max(lc_system.snapshots.keys())\n",
    "\n",
    "    # save folder\n",
    "    save_folder = os.path.join(run_path, \"method\", f\"N={N}\")\n",
    "    os.makedirs(save_folder, exist_ok=True)\n",
    "\n",
    "    # input coordinates\n",
    "    input_coords = lc_system.snapshots[step_number]\n",
    "\n",
    "    # feature vectors and coordinates of feature particles\n",
    "    _, ncs = create_feature_vectors_from_snapshot(input_coords, num_of_features, num_samples=3)\n",
    "\n",
    "    # plot neighbors\n",
    "    with plt.ioff():\n",
    "        for i, probe in enumerate(list(ncs.keys())):\n",
    "            particles_to_plot = [probe] + ncs[probe]\n",
    "            fig = lc_system.plot_snapshot(step_number, extra_particles=particles_to_plot)\n",
    "\n",
    "            fig.savefig(os.path.join(save_folder, f\"N_{N}_figure_{i}.png\"))\n",
    "            plt.close(fig)\n",
    "\n",
    "for N in systems.keys():\n",
    "    demonstrate_method(N)"
   ]
  },
  {
   "cell_type": "code",
   "execution_count": 15,
   "metadata": {},
   "outputs": [
    {
     "name": "stdout",
     "output_type": "stream",
     "text": [
      "C:\\Users\\Sam Yu\\Desktop\\School\\4A\\Phys_437A_Research_Project\\datasets\\r=0\n"
     ]
    }
   ],
   "source": [
    "print(datasets_path)"
   ]
  },
  {
   "cell_type": "code",
   "execution_count": 13,
   "metadata": {},
   "outputs": [],
   "source": [
    "# plot all the snapshots\n",
    "\n",
    "@background\n",
    "def plot_all_snapshots(N, path, start=1000000, end=1500000):\n",
    "    \n",
    "    if not os.path.exists(os.path.join(path, \"plots\")):\n",
    "        os.mkdir(os.path.join(path, \"plots\"))\n",
    "    \n",
    "    lc_system = systems[N]\n",
    "    \n",
    "    save_folder = os.path.join(path, \"plots\", f\"N={N}\")\n",
    "    os.makedirs(save_folder, exist_ok=True)\n",
    "\n",
    "    # snapshots\n",
    "    with plt.ioff():\n",
    "        for step in lc_system.snapshots.keys():\n",
    "            if start <= step <= end:\n",
    "                fig = lc_system.plot_snapshot(step, color_angles=True)\n",
    "                fig.savefig(os.path.join(save_folder, f\"N_{N}_step_{step}.png\"))\n",
    "                plt.close(fig)\n",
    "    \n",
    "for N in systems.keys():\n",
    "    plot_all_snapshots(N, path=datasets_path)"
   ]
  },
  {
   "cell_type": "code",
   "execution_count": null,
   "metadata": {},
   "outputs": [],
   "source": [
    "# phase diagram\n",
    "\n",
    "rs = [0, 2, 6, 10, 14]\n",
    "\n",
    "densities = []\n",
    "for rp in rs:\n",
    "    txt_path = os.path.join(base_results_path, f\"r={rp}\", \"phase_transition_IN.txt\")\n",
    "    with open(txt_path, \"r\") as in_file:\n",
    "        density = float(in_file.readline().strip().split(\" \")[-1])\n",
    "        densities.append(density)\n",
    "\n",
    "with plt.ioff():\n",
    "    fig, ax = plt.subplots()\n",
    "    \n",
    "ax.plot(rs, densities, linestyle=\"dotted\", label=\"Phase boundary\")\n",
    "ax.scatter(rs, densities, marker=\"v\", label=\"PCA critical densities\")\n",
    "ax.set_xlabel(r\"inner radius $r$\")\n",
    "ax.set_ylabel(r\"packing fraction $\\eta$\")\n",
    "ax.set_xlim(0, 22)\n",
    "ax.set_ylim(0, 0.7)\n",
    "ax.set_title(\"PCA identified phase boundary\")\n",
    "ax.legend()\n",
    "\n",
    "plt.show(fig)\n",
    "plt.close(fig)"
   ]
  },
  {
   "cell_type": "code",
   "execution_count": null,
   "metadata": {},
   "outputs": [],
   "source": [
    "print(pca.n_features_)\n",
    "print(pca.n_samples_)"
   ]
  }
 ],
 "metadata": {
  "kernelspec": {
   "display_name": "Python 3 (ipykernel)",
   "language": "python",
   "name": "python3"
  },
  "language_info": {
   "codemirror_mode": {
    "name": "ipython",
    "version": 3
   },
   "file_extension": ".py",
   "mimetype": "text/x-python",
   "name": "python",
   "nbconvert_exporter": "python",
   "pygments_lexer": "ipython3",
   "version": "3.9.4"
  }
 },
 "nbformat": 4,
 "nbformat_minor": 4
}
