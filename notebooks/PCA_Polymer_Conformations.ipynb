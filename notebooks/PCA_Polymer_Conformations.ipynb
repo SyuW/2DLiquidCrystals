{
 "cells": [
  {
   "cell_type": "code",
   "execution_count": 26,
   "metadata": {},
   "outputs": [],
   "source": [
    "import numpy as np\n",
    "import matplotlib.pyplot as plt\n",
    "from sklearn.decomposition import PCA\n",
    "%matplotlib inline"
   ]
  },
  {
   "cell_type": "code",
   "execution_count": 57,
   "metadata": {},
   "outputs": [
    {
     "name": "stdout",
     "output_type": "stream",
     "text": [
      "100\n"
     ]
    },
    {
     "data": {
      "image/png": "[encoded data removed]",
      "text/plain": [
       "<Figure size 432x288 with 1 Axes>"
      ]
     },
     "metadata": {
      "needs_background": "light"
     },
     "output_type": "display_data"
    }
   ],
   "source": [
    "# regular random walk\n",
    "polymer_length = 25\n",
    "num_of_configs = 100\n",
    "# left, forward, right, down\n",
    "move_indices = np.random.randint(low=0, high=4, size=(num_of_configs, polymer_length))\n",
    "move_dict = {0: np.array([1,0]), 1: np.array([0,1]),\n",
    "             2: np.array([-1,0]), 3: np.array([0,-1])}\n",
    "regular_polymer_configs = []\n",
    "for sequence in move_indices:\n",
    "    config = [np.array([0,0])]\n",
    "    for ind in sequence:\n",
    "        config.append(config[-1]+move_dict[ind])\n",
    "    regular_polymer_configs.append(np.vstack(config))\n",
    "\n",
    "example = regular_polymer_configs[0]\n",
    "plt.scatter(example[:,0], example[:,1])\n",
    "plt.plot(example[:,0], example[:,1])"
   ]
  },
  {
   "cell_type": "code",
   "execution_count": 117,
   "metadata": {},
   "outputs": [
    {
     "name": "stdout",
     "output_type": "stream",
     "text": [
      "[1, -3]\n",
      "15\n",
      "15\n"
     ]
    },
    {
     "data": {
      "text/plain": [
       "<matplotlib.collections.PathCollection at 0x2854e871760>"
      ]
     },
     "execution_count": 117,
     "metadata": {},
     "output_type": "execute_result"
    },
    {
     "data": {
      "image/png": "[encoded data removed]",
      "text/plain": [
       "<Figure size 432x288 with 1 Axes>"
      ]
     },
     "metadata": {
      "needs_background": "light"
     },
     "output_type": "display_data"
    }
   ],
   "source": [
    "# self-avoiding random walk\n",
    "polymer_length = 15\n",
    "num_of_configs = 100\n",
    "move_dict = {0: np.array([1,0]), 1: np.array([0,1]),\n",
    "             2: np.array([-1,0]), 3: np.array([0,-1])}\n",
    "self_avoiding_polymer_configs = []\n",
    "for _ in range(num_of_configs):\n",
    "    config = [[0,0]]\n",
    "    for n in range(polymer_length-1):\n",
    "        move_choices = np.random.choice([0,1,2,3], size=4, replace=False)\n",
    "        for choice in move_choices:\n",
    "            attempt = list(np.array(config[-1]) + move_dict[choice])\n",
    "            if attempt not in config:\n",
    "                config.append(attempt)\n",
    "                break\n",
    "    self_avoiding_polymer_configs.append(config)\n",
    "    \n",
    "example = self_avoiding_polymer_configs[90]\n",
    "xs = [p[0] for p in example]\n",
    "ys = [p[1] for p in example]\n",
    "\n",
    "print(example[-1])\n",
    "print(len(xs))\n",
    "print(len(ys))\n",
    "\n",
    "plt.plot(xs, ys)\n",
    "plt.scatter(xs, ys)"
   ]
  },
  {
   "cell_type": "code",
   "execution_count": 51,
   "metadata": {},
   "outputs": [],
   "source": [
    "def plot_polymer_config(config):\n",
    "    \n",
    "    with plt.ioff():\n",
    "        fig, ax = plt.subplots()\n",
    "    ax.grid()\n",
    "    # 0 - move left, 1 - move forward, 2 - move right\n",
    "    move_dict = {0: np.array([1,0]), 1: np.array([0,1]),\n",
    "                 2: np.array([-1,0]), 3: np.array([0,-1])}\n",
    "    coords = [np.array([0,0])]\n",
    "    for ind in config:\n",
    "        coords.append(coords[-1] + move_dict[ind])\n",
    "    \n",
    "    xs = [p[0] for p in coords]\n",
    "    ys = [p[1] for p in coords]\n",
    "    ax.scatter(xs, ys)\n",
    "    ax.plot(xs, ys)\n",
    "        \n",
    "    return fig"
   ]
  },
  {
   "cell_type": "code",
   "execution_count": 52,
   "metadata": {},
   "outputs": [
    {
     "name": "stdout",
     "output_type": "stream",
     "text": [
      "[0 2 2 3 0 3 0 2 3 1 3 3 0 0 3 2 1 2 2 1 3 2 3 2 0]\n"
     ]
    },
    {
     "data": {
      "image/png": "[encoded data removed]",
      "text/plain": [
       "<Figure size 432x288 with 1 Axes>"
      ]
     },
     "metadata": {
      "needs_background": "light"
     },
     "output_type": "display_data"
    }
   ],
   "source": [
    "print(move_indices[1])\n",
    "\n",
    "f = plot_polymer_config(move_indices[1])\n",
    "plt.show()"
   ]
  }
 ],
 "metadata": {
  "kernelspec": {
   "display_name": "Python 3 (ipykernel)",
   "language": "python",
   "name": "python3"
  },
  "language_info": {
   "codemirror_mode": {
    "name": "ipython",
    "version": 3
   },
   "file_extension": ".py",
   "mimetype": "text/x-python",
   "name": "python",
   "nbconvert_exporter": "python",
   "pygments_lexer": "ipython3",
   "version": "3.9.4"
  }
 },
 "nbformat": 4,
 "nbformat_minor": 4
}
